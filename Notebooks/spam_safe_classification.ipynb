{
 "cells": [
  {
   "cell_type": "code",
   "execution_count": 12,
   "id": "17f82836-ef3a-48b8-bb49-242c98bd2cad",
   "metadata": {},
   "outputs": [],
   "source": [
    "import pandas as pd\n",
    "from sklearn.feature_extraction.text import TfidfVectorizer\n",
    "from sklearn.model_selection import train_test_split"
   ]
  },
  {
   "cell_type": "code",
   "execution_count": 13,
   "id": "2aaa5d8f-974d-4d30-a2a9-dfc40ddcf329",
   "metadata": {},
   "outputs": [],
   "source": [
    "from sklearn.metrics import accuracy_score, classification_report\n",
    "from sklearn.naive_bayes import MultinomialNB\n",
    "from sklearn.linear_model import LogisticRegression, RidgeClassifier, PassiveAggressiveClassifier\n",
    "from sklearn.svm import LinearSVC\n",
    "from sklearn.tree import DecisionTreeClassifier\n",
    "from sklearn.ensemble import RandomForestClassifier, ExtraTreesClassifier, GradientBoostingClassifier, AdaBoostClassifier, BaggingClassifier\n",
    "from sklearn.neighbors import KNeighborsClassifier"
   ]
  },
  {
   "cell_type": "code",
   "execution_count": 14,
   "id": "b9b5e56b-4d92-4e15-9b37-226af5ea5785",
   "metadata": {},
   "outputs": [],
   "source": [
    "df = pd.read_csv(\"email_spam_cleaned.csv\")"
   ]
  },
  {
   "cell_type": "code",
   "execution_count": 15,
   "id": "2adbf13e-a88d-4c43-9e76-59f3145c853f",
   "metadata": {},
   "outputs": [
    {
     "name": "stdout",
     "output_type": "stream",
     "text": [
      "  label                                            message  char_count  \\\n",
      "0  safe  Go until jurong point, crazy.. Available only ...         111   \n",
      "1  safe                      Ok lar... Joking wif u oni...          29   \n",
      "2  spam  Free entry in 2 a wkly comp to win FA Cup fina...         155   \n",
      "3  safe  U dun say so early hor... U c already then say...          49   \n",
      "4  safe  Nah I don't think he goes to usf, he lives aro...          61   \n",
      "\n",
      "   word_count                                            cleaned  \n",
      "0          20  go jurong point crazi avail bugi n great world...  \n",
      "1           6                              ok lar joke wif u oni  \n",
      "2          28  free entri wkli comp win fa cup final tkt st m...  \n",
      "3          11                u dun say earli hor u c alreadi say  \n",
      "4          13          nah dont think goe usf live around though  \n"
     ]
    }
   ],
   "source": [
    "print(df.head())"
   ]
  },
  {
   "cell_type": "code",
   "execution_count": 16,
   "id": "04e9b419-f240-4e3a-848f-aa56b6d1414c",
   "metadata": {},
   "outputs": [
    {
     "name": "stdout",
     "output_type": "stream",
     "text": [
      "\n",
      "Class Distribution:\n",
      " label\n",
      "safe    4825\n",
      "spam     747\n",
      "Name: count, dtype: int64\n"
     ]
    }
   ],
   "source": [
    "print(\"\\nClass Distribution:\\n\", df['label'].value_counts())"
   ]
  },
  {
   "cell_type": "raw",
   "id": "14c3eb2c-5b94-40f6-9119-f99cce84005b",
   "metadata": {},
   "source": [
    "All models that support class_weight have it enabled to combat imbalance.\n",
    "\n",
    "Tree-based models are regularized with max_depth.\n",
    "\n",
    "Ensemble methods use tuned n_estimators.\n",
    "\n",
    "SVM and LR are limited in iterations to avoid convergence errors.\n",
    "\n",
    "KNN uses 'distance' weighting and parallelism."
   ]
  },
  {
   "cell_type": "code",
   "execution_count": 17,
   "id": "fada718b-a66c-417a-8419-c0259bfe064d",
   "metadata": {},
   "outputs": [],
   "source": [
    "\n",
    "\n",
    "# Drop rows where 'cleaned' or 'label' are missing\n",
    "df = df.dropna(subset=['cleaned', 'label'])\n",
    "\n",
    "# Optional: fill any remaining NaN in 'cleaned' (if any) with empty strings\n",
    "df['cleaned'] = df['cleaned'].fillna(\"\")\n",
    "\n",
    "# Define X and y\n",
    "X = df['cleaned']\n",
    "y = df['label']\n",
    "\n",
    "# Stratified train-test split\n",
    "X_train, X_test, y_train, y_test = train_test_split(\n",
    "    X, y, test_size=0.2, stratify=y, random_state=42\n",
    ")\n",
    "\n",
    "# TF-IDF Vectorizer\n",
    "tfidf = TfidfVectorizer(max_features=3000, ngram_range=(1, 2))\n",
    "X_train_tfidf = tfidf.fit_transform(X_train)\n",
    "X_test_tfidf = tfidf.transform(X_test)\n"
   ]
  },
  {
   "cell_type": "code",
   "execution_count": 18,
   "id": "d8a35ea7-846f-4066-9240-fdaf69556a91",
   "metadata": {},
   "outputs": [
    {
     "name": "stdout",
     "output_type": "stream",
     "text": [
      "multinomial naive-bayes\n",
      "accuracy: 0.9784560143626571\n",
      "              precision    recall  f1-score   support\n",
      "\n",
      "        safe       0.98      0.99      0.99       964\n",
      "        spam       0.96      0.87      0.92       150\n",
      "\n",
      "    accuracy                           0.98      1114\n",
      "   macro avg       0.97      0.93      0.95      1114\n",
      "weighted avg       0.98      0.98      0.98      1114\n",
      "\n"
     ]
    }
   ],
   "source": [
    "print(\"multinomial naive-bayes\")\n",
    "nb = MultinomialNB(alpha=0.1)  \n",
    "nb.fit(X_train_tfidf, y_train)\n",
    "nb_preds = nb.predict(X_test_tfidf)\n",
    "print(\"accuracy:\", accuracy_score(y_test, nb_preds))\n",
    "print(classification_report(y_test, nb_preds))"
   ]
  },
  {
   "cell_type": "code",
   "execution_count": 19,
   "id": "9b851558-0aaa-4cb4-8f45-0ce899514582",
   "metadata": {},
   "outputs": [
    {
     "name": "stdout",
     "output_type": "stream",
     "text": [
      "logistic regression\n",
      "accuracy: 0.973967684021544\n",
      "              precision    recall  f1-score   support\n",
      "\n",
      "        safe       0.99      0.98      0.98       964\n",
      "        spam       0.89      0.92      0.90       150\n",
      "\n",
      "    accuracy                           0.97      1114\n",
      "   macro avg       0.94      0.95      0.94      1114\n",
      "weighted avg       0.97      0.97      0.97      1114\n",
      "\n"
     ]
    }
   ],
   "source": [
    "print(\"logistic regression\")\n",
    "lr = LogisticRegression(max_iter=1000, class_weight='balanced', solver='liblinear')\n",
    "lr.fit(X_train_tfidf, y_train)\n",
    "lr_preds = lr.predict(X_test_tfidf)\n",
    "print(\"accuracy:\", accuracy_score(y_test, lr_preds))\n",
    "print(classification_report(y_test, lr_preds))"
   ]
  },
  {
   "cell_type": "code",
   "execution_count": 20,
   "id": "1074c384-0be2-4b12-91c1-c992eff36afc",
   "metadata": {},
   "outputs": [
    {
     "name": "stdout",
     "output_type": "stream",
     "text": [
      "linear SVM\n",
      "accuracy: 0.9775583482944344\n",
      "              precision    recall  f1-score   support\n",
      "\n",
      "        safe       0.99      0.99      0.99       964\n",
      "        spam       0.93      0.91      0.92       150\n",
      "\n",
      "    accuracy                           0.98      1114\n",
      "   macro avg       0.96      0.95      0.95      1114\n",
      "weighted avg       0.98      0.98      0.98      1114\n",
      "\n"
     ]
    },
    {
     "name": "stderr",
     "output_type": "stream",
     "text": [
      "C:\\Users\\HP\\anaconda3\\Lib\\site-packages\\sklearn\\svm\\_classes.py:31: FutureWarning: The default value of `dual` will change from `True` to `'auto'` in 1.5. Set the value of `dual` explicitly to suppress the warning.\n",
      "  warnings.warn(\n"
     ]
    }
   ],
   "source": [
    "print(\"linear SVM\")\n",
    "svm = LinearSVC(class_weight='balanced', max_iter=1000)\n",
    "svm.fit(X_train_tfidf, y_train)\n",
    "svm_preds = svm.predict(X_test_tfidf)\n",
    "print(\"accuracy:\", accuracy_score(y_test, svm_preds))\n",
    "print(classification_report(y_test, svm_preds))"
   ]
  },
  {
   "cell_type": "code",
   "execution_count": 21,
   "id": "c0158e47-1e53-4004-8a07-662d85730d07",
   "metadata": {},
   "outputs": [
    {
     "name": "stdout",
     "output_type": "stream",
     "text": [
      "ridge classifier\n",
      "accuracy: 0.9793536804308797\n",
      "              precision    recall  f1-score   support\n",
      "\n",
      "        safe       0.99      0.99      0.99       964\n",
      "        spam       0.93      0.91      0.92       150\n",
      "\n",
      "    accuracy                           0.98      1114\n",
      "   macro avg       0.96      0.95      0.96      1114\n",
      "weighted avg       0.98      0.98      0.98      1114\n",
      "\n"
     ]
    }
   ],
   "source": [
    "print(\"ridge classifier\")\n",
    "ridge = RidgeClassifier(class_weight='balanced')\n",
    "ridge.fit(X_train_tfidf, y_train)\n",
    "ridge_preds = ridge.predict(X_test_tfidf)\n",
    "print(\"accuracy:\", accuracy_score(y_test, ridge_preds))\n",
    "print(classification_report(y_test, ridge_preds))"
   ]
  },
  {
   "cell_type": "code",
   "execution_count": 22,
   "id": "80f22367-10a4-45ea-b633-b6ca4b9d1266",
   "metadata": {},
   "outputs": [
    {
     "name": "stdout",
     "output_type": "stream",
     "text": [
      "passive aggressive classifier\n",
      "accuracy: 0.9766606822262118\n",
      "              precision    recall  f1-score   support\n",
      "\n",
      "        safe       0.98      0.99      0.99       964\n",
      "        spam       0.92      0.90      0.91       150\n",
      "\n",
      "    accuracy                           0.98      1114\n",
      "   macro avg       0.95      0.94      0.95      1114\n",
      "weighted avg       0.98      0.98      0.98      1114\n",
      "\n"
     ]
    }
   ],
   "source": [
    "print(\"passive aggressive classifier\")\n",
    "pa = PassiveAggressiveClassifier(max_iter=1000, class_weight='balanced')\n",
    "pa.fit(X_train_tfidf, y_train)\n",
    "pa_preds = pa.predict(X_test_tfidf)\n",
    "print(\"accuracy:\", accuracy_score(y_test, pa_preds))\n",
    "print(classification_report(y_test, pa_preds))"
   ]
  },
  {
   "cell_type": "code",
   "execution_count": 23,
   "id": "95d3d517-6879-401a-b340-c38a035e2801",
   "metadata": {},
   "outputs": [
    {
     "name": "stdout",
     "output_type": "stream",
     "text": [
      "decision tree classifier\n",
      "accuracy: 0.9560143626570916\n",
      "              precision    recall  f1-score   support\n",
      "\n",
      "        safe       0.98      0.97      0.97       964\n",
      "        spam       0.83      0.85      0.84       150\n",
      "\n",
      "    accuracy                           0.96      1114\n",
      "   macro avg       0.90      0.91      0.91      1114\n",
      "weighted avg       0.96      0.96      0.96      1114\n",
      "\n"
     ]
    }
   ],
   "source": [
    "print(\"decision tree classifier\") \n",
    "dt = DecisionTreeClassifier(max_depth=30, class_weight='balanced')\n",
    "dt.fit(X_train_tfidf, y_train)\n",
    "dt_preds = dt.predict(X_test_tfidf)\n",
    "print(\"accuracy:\", accuracy_score(y_test, dt_preds))\n",
    "print(classification_report(y_test, dt_preds))"
   ]
  },
  {
   "cell_type": "code",
   "execution_count": 24,
   "id": "b5c23e93-ff8a-4845-9056-e2f17de0ce26",
   "metadata": {},
   "outputs": [
    {
     "name": "stdout",
     "output_type": "stream",
     "text": [
      "random forest classifier\n",
      "accuracy: 0.9766606822262118\n",
      "              precision    recall  f1-score   support\n",
      "\n",
      "        safe       0.98      1.00      0.99       964\n",
      "        spam       0.97      0.85      0.91       150\n",
      "\n",
      "    accuracy                           0.98      1114\n",
      "   macro avg       0.97      0.92      0.95      1114\n",
      "weighted avg       0.98      0.98      0.98      1114\n",
      "\n"
     ]
    }
   ],
   "source": [
    "print(\"random forest classifier\")\n",
    "rf = RandomForestClassifier(n_estimators=100, max_depth=30, class_weight='balanced')\n",
    "rf.fit(X_train_tfidf, y_train)\n",
    "rf_preds = rf.predict(X_test_tfidf)\n",
    "print(\"accuracy:\", accuracy_score(y_test, rf_preds))\n",
    "print(classification_report(y_test, rf_preds))"
   ]
  },
  {
   "cell_type": "code",
   "execution_count": 25,
   "id": "80b66df6-9b99-4d5b-a638-0ecd1b5c9fff",
   "metadata": {},
   "outputs": [
    {
     "name": "stdout",
     "output_type": "stream",
     "text": [
      "extra trees classifier\n",
      "accuracy: 0.9748653500897666\n",
      "              precision    recall  f1-score   support\n",
      "\n",
      "        safe       0.97      1.00      0.99       964\n",
      "        spam       0.98      0.83      0.90       150\n",
      "\n",
      "    accuracy                           0.97      1114\n",
      "   macro avg       0.98      0.92      0.94      1114\n",
      "weighted avg       0.97      0.97      0.97      1114\n",
      "\n"
     ]
    }
   ],
   "source": [
    "print(\"extra trees classifier\")\n",
    "et = ExtraTreesClassifier(n_estimators=100, max_depth=30, class_weight='balanced')\n",
    "et.fit(X_train_tfidf, y_train)\n",
    "et_preds = et.predict(X_test_tfidf)\n",
    "print(\"accuracy:\", accuracy_score(y_test, et_preds))\n",
    "print(classification_report(y_test, et_preds))"
   ]
  },
  {
   "cell_type": "code",
   "execution_count": 26,
   "id": "bcb47b38-09bf-4407-b2d7-9c64f68abb3d",
   "metadata": {},
   "outputs": [
    {
     "name": "stdout",
     "output_type": "stream",
     "text": [
      "gradient boosting classifier\n",
      "accuracy: 0.9596050269299821\n",
      "              precision    recall  f1-score   support\n",
      "\n",
      "        safe       0.96      0.99      0.98       964\n",
      "        spam       0.96      0.73      0.83       150\n",
      "\n",
      "    accuracy                           0.96      1114\n",
      "   macro avg       0.96      0.86      0.90      1114\n",
      "weighted avg       0.96      0.96      0.96      1114\n",
      "\n"
     ]
    }
   ],
   "source": [
    "print(\"gradient boosting classifier\")\n",
    "gb = GradientBoostingClassifier(n_estimators=100, learning_rate=0.1, max_depth=3)\n",
    "gb.fit(X_train_tfidf, y_train)\n",
    "gb_preds = gb.predict(X_test_tfidf)\n",
    "print(\"accuracy:\", accuracy_score(y_test, gb_preds))\n",
    "print(classification_report(y_test, gb_preds))"
   ]
  },
  {
   "cell_type": "code",
   "execution_count": 27,
   "id": "0ffb30a6-1579-4db7-b494-03ccc101861a",
   "metadata": {},
   "outputs": [
    {
     "name": "stdout",
     "output_type": "stream",
     "text": [
      "adaboost classifier\n"
     ]
    },
    {
     "name": "stderr",
     "output_type": "stream",
     "text": [
      "C:\\Users\\HP\\anaconda3\\Lib\\site-packages\\sklearn\\ensemble\\_weight_boosting.py:519: FutureWarning: The SAMME.R algorithm (the default) is deprecated and will be removed in 1.6. Use the SAMME algorithm to circumvent this warning.\n",
      "  warnings.warn(\n"
     ]
    },
    {
     "name": "stdout",
     "output_type": "stream",
     "text": [
      "accuracy: 0.966786355475763\n",
      "              precision    recall  f1-score   support\n",
      "\n",
      "        safe       0.97      0.99      0.98       964\n",
      "        spam       0.93      0.81      0.87       150\n",
      "\n",
      "    accuracy                           0.97      1114\n",
      "   macro avg       0.95      0.90      0.92      1114\n",
      "weighted avg       0.97      0.97      0.97      1114\n",
      "\n"
     ]
    }
   ],
   "source": [
    "print(\"adaboost classifier\")\n",
    "ada = AdaBoostClassifier(n_estimators=100, learning_rate=0.5)\n",
    "ada.fit(X_train_tfidf, y_train)\n",
    "ada_preds = ada.predict(X_test_tfidf)\n",
    "print(\"accuracy:\", accuracy_score(y_test, ada_preds))\n",
    "print(classification_report(y_test, ada_preds))"
   ]
  },
  {
   "cell_type": "code",
   "execution_count": 28,
   "id": "f20f23a4-0d14-47d9-a695-28264a2fbb3f",
   "metadata": {},
   "outputs": [
    {
     "name": "stdout",
     "output_type": "stream",
     "text": [
      "bagging classifier\n",
      "accuracy: 0.9640933572710951\n",
      "              precision    recall  f1-score   support\n",
      "\n",
      "        safe       0.97      0.99      0.98       964\n",
      "        spam       0.91      0.81      0.86       150\n",
      "\n",
      "    accuracy                           0.96      1114\n",
      "   macro avg       0.94      0.90      0.92      1114\n",
      "weighted avg       0.96      0.96      0.96      1114\n",
      "\n"
     ]
    }
   ],
   "source": [
    "print(\"bagging classifier\")\n",
    "bag = BaggingClassifier(n_estimators=50)\n",
    "bag.fit(X_train_tfidf, y_train)\n",
    "bag_preds = bag.predict(X_test_tfidf)\n",
    "print(\"accuracy:\", accuracy_score(y_test, bag_preds))\n",
    "print(classification_report(y_test, bag_preds))\n"
   ]
  },
  {
   "cell_type": "code",
   "execution_count": 29,
   "id": "51c86275-318c-4b38-aeb0-c5aad2ccf4a9",
   "metadata": {},
   "outputs": [
    {
     "name": "stdout",
     "output_type": "stream",
     "text": [
      "K-nearest neighbors\n",
      "accuracy: 0.9416517055655296\n",
      "              precision    recall  f1-score   support\n",
      "\n",
      "        safe       0.94      1.00      0.97       964\n",
      "        spam       0.99      0.57      0.73       150\n",
      "\n",
      "    accuracy                           0.94      1114\n",
      "   macro avg       0.96      0.79      0.85      1114\n",
      "weighted avg       0.94      0.94      0.93      1114\n",
      "\n"
     ]
    }
   ],
   "source": [
    "print(\"K-nearest neighbors\")\n",
    "knn = KNeighborsClassifier(n_neighbors=5, weights='distance', n_jobs=-1)\n",
    "knn.fit(X_train_tfidf, y_train)\n",
    "knn_preds = knn.predict(X_test_tfidf)\n",
    "print(\"accuracy:\", accuracy_score(y_test, knn_preds))\n",
    "print(classification_report(y_test, knn_preds))"
   ]
  },
  {
   "cell_type": "code",
   "execution_count": null,
   "id": "a7b815ae-9d69-49ca-a0dc-04c5559d0efc",
   "metadata": {},
   "outputs": [],
   "source": []
  },
  {
   "cell_type": "raw",
   "id": "a47a12b4-ff6a-45dd-9a50-c4b9cb78c07b",
   "metadata": {},
   "source": [
    "tracking ALL accuracies:\n",
    "\n",
    "1.multinomial naive-bayes                         accuracy: 0.97\n",
    "\n",
    "2.logistic regression                             accuracy: 0.97\n",
    "\n",
    "3.linear SVM                 SVM                  accuracy: 0.98  --> **final** <--\n",
    "\n",
    "4.ridge classifier                                accuracy: 0.98\n",
    "\n",
    "5.passive aggressive classifier                   accuracy: 0.98\n",
    "\n",
    "6.decision tree classifier                        accuracy: 0.94\n",
    "\n",
    "7.random forest classifier                        accuracy: 0.97\n",
    "\n",
    "8.extra trees classifier                          accuracy: 0.97\n",
    "\n",
    "9.gradient boosting classifier                    accuracy: 0.95\n",
    "\n",
    "10.adaboost classifier                            accuracy: 0.96\n",
    "\n",
    "11.bagging classifier                             accuracy: 0.96\n",
    "\n",
    "12.K-nearest neighbors                            accuracy: 0.94\n",
    "\n",
    "\n"
   ]
  },
  {
   "cell_type": "code",
   "execution_count": null,
   "id": "e1283d69-98c4-4120-957c-03b28ba53b56",
   "metadata": {},
   "outputs": [],
   "source": []
  },
  {
   "cell_type": "code",
   "execution_count": null,
   "id": "9ed25db2-9e68-43c2-afad-33b5726976d3",
   "metadata": {},
   "outputs": [],
   "source": []
  },
  {
   "cell_type": "code",
   "execution_count": null,
   "id": "3acabcf5-9eff-4c0f-b512-4982b3f79a5b",
   "metadata": {},
   "outputs": [],
   "source": []
  }
 ],
 "metadata": {
  "kernelspec": {
   "display_name": "Python 3 (ipykernel)",
   "language": "python",
   "name": "python3"
  },
  "language_info": {
   "codemirror_mode": {
    "name": "ipython",
    "version": 3
   },
   "file_extension": ".py",
   "mimetype": "text/x-python",
   "name": "python",
   "nbconvert_exporter": "python",
   "pygments_lexer": "ipython3",
   "version": "3.12.3"
  }
 },
 "nbformat": 4,
 "nbformat_minor": 5
}
